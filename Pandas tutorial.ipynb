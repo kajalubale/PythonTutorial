{
 "cells": [
  {
   "cell_type": "markdown",
   "metadata": {},
   "source": [
    "Python Pandas is defined as an open-source library that provides high-performance data manipulation in Python. This tutorial is designed for both beginners and professionals.\n",
    "\n",
    "It is used for data analysis in Python and developed by Wes McKinney in 2008."
   ]
  },
  {
   "cell_type": "markdown",
   "metadata": {},
   "source": [
    "Data analysis requires lots of processing, such as restructuring, cleaning or merging, etc. There are different tools are available for fast data processing, such as Numpy, Scipy, Cython, and Panda. But we prefer Pandas because working with Pandas is fast, simple and more expressive than other tools.\n",
    "\n",
    "It can perform five significant steps required for processing and analysis of data irrespective of the origin of the data, i.e., load, manipulate, prepare, model, and analyze.\n"
   ]
  },
  {
   "cell_type": "markdown",
   "metadata": {},
   "source": [
    "Python Pandas Data Structure\n",
    "The Pandas provides two data structures for processing the data, i.e., Series and DataFrame, which are discussed below:\n",
    "\n",
    "1) Series\n",
    "\n",
    "It is defined as a one-dimensional array that is capable of storing various data types. The row labels of series are called the index. We can easily convert the list, tuple, and dictionary into series using \"series' method. A Series cannot contain multiple columns. It has one parameter:\n",
    "\n",
    "Data: It can be any list, dictionary, or scalar value."
   ]
  },
  {
   "cell_type": "markdown",
   "metadata": {},
   "source": [
    "Creating Series from Array:\n",
    "\n",
    "Before creating a Series, Firstly, we have to import the numpy module and then use array() function in the program."
   ]
  },
  {
   "cell_type": "code",
   "execution_count": 5,
   "metadata": {},
   "outputs": [],
   "source": [
    "import numpy as np\n",
    "import pandas as pd\n",
    "info= np.array(['P','A','N','D','A','S'])\n",
    "a=pd.Series(info)"
   ]
  },
  {
   "cell_type": "code",
   "execution_count": 6,
   "metadata": {},
   "outputs": [
    {
     "data": {
      "text/plain": [
       "0    P\n",
       "1    A\n",
       "2    N\n",
       "3    D\n",
       "4    A\n",
       "5    S\n",
       "dtype: object"
      ]
     },
     "execution_count": 6,
     "metadata": {},
     "output_type": "execute_result"
    }
   ],
   "source": [
    "a"
   ]
  },
  {
   "cell_type": "markdown",
   "metadata": {},
   "source": [
    "Python Pandas DataFrame\n",
    "It is a widely used data structure of pandas and works with a two-dimensional array with labeled axes (rows and columns). DataFrame is defined as a standard way to store data and has two different indexes, i.e., row index and column index. It consists of the following properties:\n",
    "\n",
    "The columns can be heterogeneous types like int, bool, and so on.\n",
    "It can be seen as a dictionary of Series structure where both the rows and columns are indexed. It is denoted as \"columns\" in case of columns and \"index\" in case of rows."
   ]
  },
  {
   "cell_type": "code",
   "execution_count": 8,
   "metadata": {},
   "outputs": [
    {
     "data": {
      "text/html": [
       "<div>\n",
       "<style scoped>\n",
       "    .dataframe tbody tr th:only-of-type {\n",
       "        vertical-align: middle;\n",
       "    }\n",
       "\n",
       "    .dataframe tbody tr th {\n",
       "        vertical-align: top;\n",
       "    }\n",
       "\n",
       "    .dataframe thead th {\n",
       "        text-align: right;\n",
       "    }\n",
       "</style>\n",
       "<table border=\"1\" class=\"dataframe\">\n",
       "  <thead>\n",
       "    <tr style=\"text-align: right;\">\n",
       "      <th></th>\n",
       "      <th>0</th>\n",
       "    </tr>\n",
       "  </thead>\n",
       "  <tbody>\n",
       "    <tr>\n",
       "      <th>0</th>\n",
       "      <td>kajal</td>\n",
       "    </tr>\n",
       "    <tr>\n",
       "      <th>1</th>\n",
       "      <td>shushma</td>\n",
       "    </tr>\n",
       "    <tr>\n",
       "      <th>2</th>\n",
       "      <td>snehal</td>\n",
       "    </tr>\n",
       "  </tbody>\n",
       "</table>\n",
       "</div>"
      ],
      "text/plain": [
       "         0\n",
       "0    kajal\n",
       "1  shushma\n",
       "2   snehal"
      ]
     },
     "execution_count": 8,
     "metadata": {},
     "output_type": "execute_result"
    }
   ],
   "source": [
    "import pandas as pd\n",
    "x=['kajal','shushma','snehal']\n",
    "output1= pd.DataFrame(x)\n",
    "output1"
   ]
  },
  {
   "cell_type": "markdown",
   "metadata": {},
   "source": [
    "panda series is a one dimensional array that is it contain only one column and multiple row.The row labels of series are called the index.It has the following parameter:\n",
    "\n",
    "data: It can be any list, dictionary, or scalar value.\n",
    "\n",
    "index: The value of the index should be unique and hashable. It must be of the same length as data. If we do not pass any index, default np.arrange(n) will be used.\n",
    "\n",
    "dtype: It refers to the data type of series.\n",
    "\n",
    "copy: It is used for copying the data.\n",
    "Creating a Series:\n"
   ]
  },
  {
   "cell_type": "markdown",
   "metadata": {},
   "source": [
    "We can create a Series in two ways:\n",
    "\n",
    "1.Create an empty Series\n",
    "2.Create a Series using inputs.\n",
    "\n"
   ]
  },
  {
   "cell_type": "code",
   "execution_count": 9,
   "metadata": {},
   "outputs": [
    {
     "name": "stderr",
     "output_type": "stream",
     "text": [
      "<ipython-input-9-9792a3ef4838>:3: DeprecationWarning: The default dtype for empty Series will be 'object' instead of 'float64' in a future version. Specify a dtype explicitly to silence this warning.\n",
      "  x=pd.Series()\n"
     ]
    }
   ],
   "source": [
    "# create an empty series\n",
    "import pandas as pd\n",
    "x=pd.Series()\n",
    "x"
   ]
  },
  {
   "cell_type": "code",
   "execution_count": 11,
   "metadata": {},
   "outputs": [
    {
     "data": {
      "text/plain": [
       "0          kajal\n",
       "1             25\n",
       "2    Navi mumbai\n",
       "dtype: object"
      ]
     },
     "execution_count": 11,
     "metadata": {},
     "output_type": "execute_result"
    }
   ],
   "source": [
    "# creating an Series using input\n",
    "import pandas as pd\n",
    "x=['kajal',25,'Navi mumbai']\n",
    "df=pd.Series(x)\n",
    "df"
   ]
  },
  {
   "cell_type": "code",
   "execution_count": 12,
   "metadata": {},
   "outputs": [
    {
     "name": "stdout",
     "output_type": "stream",
     "text": [
      "Navi mumbai\n"
     ]
    }
   ],
   "source": [
    "print(x[2])\n",
    "#accessing data from DataFrame with index value"
   ]
  },
  {
   "cell_type": "markdown",
   "metadata": {},
   "source": [
    "Series.index :Defines the index of the Series.\n",
    "\n",
    "Series.shape :It returns a tuple of shape of the data.\n",
    "\n",
    "Series.dtype :It returns the data type of the data.\n",
    "\n",
    "Series.size :It returns the size of the data.\n",
    "\n",
    "Series.empty :It returns True if Series object is empty, otherwise returns false.\n",
    "\n",
    "Series.hasnans :It returns True if there are any NaN values, otherwise returns false.\n",
    "\n",
    "Series.nbytes :It returns the number of bytes in the data.\n",
    "\n",
    "Series.ndim :It returns the number of dimensions in the data.\n",
    "\n",
    "Series.itemsize :It returns the size of the datatype of item."
   ]
  },
  {
   "cell_type": "code",
   "execution_count": 22,
   "metadata": {},
   "outputs": [
    {
     "name": "stdout",
     "output_type": "stream",
     "text": [
      "RangeIndex(start=0, stop=4, step=1)\n",
      "[2 4 6 8]\n",
      "Index(['a', 'b', 'c'], dtype='object')\n",
      "[11.2 18.6 22.5]\n",
      "4\n",
      "int64\n",
      "(4,)\n",
      "1\n",
      "32\n",
      "False\n"
     ]
    }
   ],
   "source": [
    "import numpy as np   \n",
    "import pandas as pd   \n",
    "x=pd.Series(data=[2,4,6,8])   \n",
    "y=pd.Series(data=[11.2,18.6,22.5], index=['a','b','c'])   \n",
    "print(x.index)   \n",
    "print(x.values)   \n",
    "print(y.index)   \n",
    "print(y.values)  \n",
    "print(x.size)\n",
    "print(x.dtype)\n",
    "print(x.shape)\n",
    "print(x.ndim)\n",
    "print(x.nbytes)\n",
    "print(x.hasnans)"
   ]
  },
  {
   "cell_type": "markdown",
   "metadata": {},
   "source": [
    "Series Functions\n",
    "There are some functions used in Series which are as follows:\n",
    "\n",
    "Functions\n",
    "1. Pandas Series.map() : Map the values from two series that have a common column.\n",
    "\n",
    "2. Pandas Series.std() : Calculate the standard deviation of the given set of numbers, DataFrame, column, and rows.\n",
    "\n",
    "3. Pandas Series.to_frame() : Convert the series object to the dataframe.\n",
    "\n",
    "4. Pandas Series.value_counts() : Returns a Series that contain counts of unique values."
   ]
  },
  {
   "cell_type": "markdown",
   "metadata": {},
   "source": [
    "Series"
   ]
  },
  {
   "cell_type": "code",
   "execution_count": 24,
   "metadata": {},
   "outputs": [],
   "source": [
    "import pandas as pd\n",
    "from pandas import Series"
   ]
  },
  {
   "cell_type": "code",
   "execution_count": 26,
   "metadata": {},
   "outputs": [
    {
     "name": "stdout",
     "output_type": "stream",
     "text": [
      "0    1\n",
      "1    2\n",
      "2    3\n",
      "3    4\n",
      "4    5\n",
      "dtype: int64\n"
     ]
    }
   ],
   "source": [
    "a=pd.Series([1,2,3,4,5])\n",
    "print(a) # one dimensional array"
   ]
  },
  {
   "cell_type": "code",
   "execution_count": 29,
   "metadata": {},
   "outputs": [
    {
     "data": {
      "text/plain": [
       "array([1, 2, 3, 4, 5])"
      ]
     },
     "execution_count": 29,
     "metadata": {},
     "output_type": "execute_result"
    }
   ],
   "source": [
    "a.values # to know the value inside the array"
   ]
  },
  {
   "cell_type": "code",
   "execution_count": 30,
   "metadata": {},
   "outputs": [
    {
     "data": {
      "text/plain": [
       "RangeIndex(start=0, stop=5, step=1)"
      ]
     },
     "execution_count": 30,
     "metadata": {},
     "output_type": "execute_result"
    }
   ],
   "source": [
    "a.index  # to know index of an array"
   ]
  },
  {
   "cell_type": "code",
   "execution_count": 31,
   "metadata": {},
   "outputs": [
    {
     "name": "stdout",
     "output_type": "stream",
     "text": [
      "a    1\n",
      "b    3\n",
      "c    4\n",
      "d    5\n",
      "dtype: int64\n"
     ]
    }
   ],
   "source": [
    "# To set our own index- by default index start from o\n",
    "s1= pd.Series([1,3,4,5],index=['a','b','c','d'])\n",
    "print(s1)"
   ]
  },
  {
   "cell_type": "markdown",
   "metadata": {},
   "source": [
    "slicing"
   ]
  },
  {
   "cell_type": "code",
   "execution_count": 32,
   "metadata": {},
   "outputs": [
    {
     "data": {
      "text/plain": [
       "4"
      ]
     },
     "execution_count": 32,
     "metadata": {},
     "output_type": "execute_result"
    }
   ],
   "source": [
    "s1['c']"
   ]
  },
  {
   "cell_type": "code",
   "execution_count": 33,
   "metadata": {},
   "outputs": [
    {
     "data": {
      "text/plain": [
       "d    5\n",
       "a    1\n",
       "dtype: int64"
      ]
     },
     "execution_count": 33,
     "metadata": {},
     "output_type": "execute_result"
    }
   ],
   "source": [
    "s1[['d','a']] # shows more than one value."
   ]
  },
  {
   "cell_type": "markdown",
   "metadata": {},
   "source": [
    "Boolean"
   ]
  },
  {
   "cell_type": "code",
   "execution_count": 35,
   "metadata": {},
   "outputs": [
    {
     "data": {
      "text/plain": [
       "True"
      ]
     },
     "execution_count": 35,
     "metadata": {},
     "output_type": "execute_result"
    }
   ],
   "source": [
    "'b' in s1"
   ]
  },
  {
   "cell_type": "code",
   "execution_count": 37,
   "metadata": {},
   "outputs": [
    {
     "data": {
      "text/plain": [
       "False"
      ]
     },
     "execution_count": 37,
     "metadata": {},
     "output_type": "execute_result"
    }
   ],
   "source": [
    "'s' in s1"
   ]
  },
  {
   "cell_type": "markdown",
   "metadata": {},
   "source": [
    "with dictionary"
   ]
  },
  {
   "cell_type": "code",
   "execution_count": 38,
   "metadata": {},
   "outputs": [
    {
     "name": "stdout",
     "output_type": "stream",
     "text": [
      "oil      300\n",
      "gas      100\n",
      "fan      600\n",
      "light    700\n",
      "dtype: int64\n"
     ]
    }
   ],
   "source": [
    "ds={'oil':300,'gas':100,'fan':600,'light':700}\n",
    "k=pd.Series(ds)\n",
    "print(k) # shows keys as index and value as value"
   ]
  },
  {
   "cell_type": "markdown",
   "metadata": {},
   "source": [
    "Pandas DataFrame\n",
    "Data structure which works with a two dimensional array with labeled axes(rows and column)\n",
    "we can create data frames using following ways\n",
    "1. dict \n",
    "2. Lists\n",
    "3. Numpy ndarrays\n",
    "4. Series"
   ]
  },
  {
   "cell_type": "code",
   "execution_count": 39,
   "metadata": {},
   "outputs": [
    {
     "name": "stdout",
     "output_type": "stream",
     "text": [
      "Empty DataFrame\n",
      "Columns: []\n",
      "Index: []\n"
     ]
    }
   ],
   "source": [
    "# create empty data frames\n",
    "import pandas as pd\n",
    "df= pd.DataFrame()\n",
    "print(df)\n"
   ]
  },
  {
   "cell_type": "code",
   "execution_count": 40,
   "metadata": {},
   "outputs": [
    {
     "name": "stdout",
     "output_type": "stream",
     "text": [
      "     0\n",
      "0    1\n",
      "1    2\n",
      "2    3\n",
      "3    4\n",
      "4  abc\n"
     ]
    }
   ],
   "source": [
    "# create DataFrame using lists\n",
    "import pandas as pd\n",
    "x=[1,2,3,4,'abc']\n",
    "df=pd.DataFrame(x)\n",
    "print(df)"
   ]
  },
  {
   "cell_type": "code",
   "execution_count": 41,
   "metadata": {},
   "outputs": [
    {
     "name": "stdout",
     "output_type": "stream",
     "text": [
      "    ID Department\n",
      "0  100        Bsc\n",
      "1  200       Bteh\n",
      "2  300      Mtech\n"
     ]
    }
   ],
   "source": [
    "# create dataframe using ndarrays/lists\n",
    "import pandas as pd\n",
    "info={'ID':[100,200,300],\n",
    "      'Department':['Bsc','Bteh','Mtech']}\n",
    "df=pd.DataFrame(info)\n",
    "print(df)\n",
    "#keys act as column name and values as values\n",
    "                                       "
   ]
  },
  {
   "cell_type": "code",
   "execution_count": 42,
   "metadata": {},
   "outputs": [
    {
     "name": "stdout",
     "output_type": "stream",
     "text": [
      "   one  two\n",
      "a  1.0    1\n",
      "b  2.0    2\n",
      "c  3.0    3\n",
      "d  NaN    4\n",
      "e  NaN    5\n"
     ]
    }
   ],
   "source": [
    "#create DataFrame from dict of series\n",
    "import pandas as pd\n",
    "info={'one':pd.Series([1,2,3],index=['a','b','c']),\n",
    "      'two':pd.Series([1,2,3,4,5],index=['a','b','c','d','e'])}\n",
    "df=pd.DataFrame(info)\n",
    "print(df)"
   ]
  },
  {
   "cell_type": "code",
   "execution_count": 43,
   "metadata": {},
   "outputs": [
    {
     "name": "stdout",
     "output_type": "stream",
     "text": [
      "a    1.0\n",
      "b    2.0\n",
      "c    3.0\n",
      "d    NaN\n",
      "e    NaN\n",
      "Name: one, dtype: float64\n"
     ]
    }
   ],
   "source": [
    "#column selection\n",
    "print(df['one'])"
   ]
  },
  {
   "cell_type": "code",
   "execution_count": 45,
   "metadata": {},
   "outputs": [
    {
     "name": "stdout",
     "output_type": "stream",
     "text": [
      "   one  two  three\n",
      "a  1.0    1   20.0\n",
      "b  2.0    2   40.0\n",
      "c  3.0    3   60.0\n",
      "d  NaN    4    NaN\n",
      "e  NaN    5    NaN\n"
     ]
    }
   ],
   "source": [
    "#add new column by passing series\n",
    "df['three']=pd.Series([20,40,60],index=['a','b','c'])\n",
    "print(df)"
   ]
  },
  {
   "cell_type": "code",
   "execution_count": 46,
   "metadata": {},
   "outputs": [
    {
     "name": "stdout",
     "output_type": "stream",
     "text": [
      "   one  two  three  four\n",
      "a  1.0    1   20.0  21.0\n",
      "b  2.0    2   40.0  42.0\n",
      "c  3.0    3   60.0  63.0\n",
      "d  NaN    4    NaN   NaN\n",
      "e  NaN    5    NaN   NaN\n"
     ]
    }
   ],
   "source": [
    "#add new column using existing DataFrame column\n",
    "df['four']=df['one']+df['three']\n",
    "print(df)"
   ]
  },
  {
   "cell_type": "code",
   "execution_count": 47,
   "metadata": {},
   "outputs": [
    {
     "name": "stdout",
     "output_type": "stream",
     "text": [
      "   two  three  four\n",
      "a    1   20.0  21.0\n",
      "b    2   40.0  42.0\n",
      "c    3   60.0  63.0\n",
      "d    4    NaN   NaN\n",
      "e    5    NaN   NaN\n"
     ]
    }
   ],
   "source": [
    "#delete column using del function\n",
    "del df['one']\n",
    "print(df)"
   ]
  },
  {
   "cell_type": "code",
   "execution_count": 48,
   "metadata": {},
   "outputs": [
    {
     "name": "stdout",
     "output_type": "stream",
     "text": [
      "   three  four\n",
      "a   20.0  21.0\n",
      "b   40.0  42.0\n",
      "c   60.0  63.0\n",
      "d    NaN   NaN\n",
      "e    NaN   NaN\n"
     ]
    }
   ],
   "source": [
    "#delete column using pop function\n",
    "df.pop('two')\n",
    "print(df)"
   ]
  },
  {
   "cell_type": "code",
   "execution_count": 49,
   "metadata": {},
   "outputs": [
    {
     "name": "stdout",
     "output_type": "stream",
     "text": [
      "three    40.0\n",
      "four     42.0\n",
      "Name: b, dtype: float64\n"
     ]
    }
   ],
   "source": [
    "#select any row by passing the row label to a loc function\n",
    "print(df.loc['b'])\n"
   ]
  },
  {
   "cell_type": "code",
   "execution_count": 50,
   "metadata": {},
   "outputs": [
    {
     "name": "stdout",
     "output_type": "stream",
     "text": [
      "three   NaN\n",
      "four    NaN\n",
      "Name: d, dtype: float64\n"
     ]
    }
   ],
   "source": [
    "#selection by integer location\n",
    "print(df.iloc[3])\n"
   ]
  },
  {
   "cell_type": "code",
   "execution_count": 51,
   "metadata": {},
   "outputs": [
    {
     "name": "stdout",
     "output_type": "stream",
     "text": [
      "   three  four\n",
      "c   60.0  63.0\n",
      "d    NaN   NaN\n",
      "e    NaN   NaN\n"
     ]
    }
   ],
   "source": [
    "#slice rows\n",
    "print(df[2:5])"
   ]
  },
  {
   "cell_type": "code",
   "execution_count": 52,
   "metadata": {},
   "outputs": [
    {
     "name": "stdout",
     "output_type": "stream",
     "text": [
      "    x   y\n",
      "0   7   8\n",
      "1   9  10\n",
      "0  11  12\n",
      "1  13  14\n"
     ]
    }
   ],
   "source": [
    "#addition of rows using append function\n",
    "import pandas as pd\n",
    "d=pd.DataFrame([[7,8],[9,10]],\n",
    "               columns=['x','y'])\n",
    "d2=pd.DataFrame([[11,12],[13,14]],\n",
    "                columns=['x','y'])\n",
    "d=d.append(d2)\n",
    "print(d)"
   ]
  },
  {
   "cell_type": "code",
   "execution_count": null,
   "metadata": {},
   "outputs": [],
   "source": []
  }
 ],
 "metadata": {
  "kernelspec": {
   "display_name": "Python 3",
   "language": "python",
   "name": "python3"
  },
  "language_info": {
   "codemirror_mode": {
    "name": "ipython",
    "version": 3
   },
   "file_extension": ".py",
   "mimetype": "text/x-python",
   "name": "python",
   "nbconvert_exporter": "python",
   "pygments_lexer": "ipython3",
   "version": "3.8.3"
  }
 },
 "nbformat": 4,
 "nbformat_minor": 4
}
